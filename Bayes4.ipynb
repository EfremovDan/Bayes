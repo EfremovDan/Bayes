{
 "cells": [
  {
   "cell_type": "code",
   "execution_count": 25,
   "metadata": {},
   "outputs": [],
   "source": [
    "import numpy as np\n",
    "n = 1000\n",
    "np.random.seed(123)\n",
    "X_0 = np.full(n, 1)\n",
    "X_1 = np.random.normal(2, 5, n)\n",
    "X_2 = np.random.normal(5, 2, n)\n",
    "X_3 = np.random.normal(5, 5, n)"
   ]
  },
  {
   "cell_type": "code",
   "execution_count": 26,
   "metadata": {},
   "outputs": [],
   "source": [
    "np.random.seed(123)\n",
    "x_0 = np.full(n, 1)\n",
    "x_1 = np.random.normal(4, 3, n)\n",
    "x_2 = np.random.normal(3, 2, n)\n",
    "x_3 = np.random.normal(2, 1, n)"
   ]
  },
  {
   "cell_type": "code",
   "execution_count": 27,
   "metadata": {},
   "outputs": [],
   "source": [
    "u = np.random.multivariate_normal(mean=[0, 0], cov=[[1, 0.5], [0.5, 1]], size=n)"
   ]
  },
  {
   "cell_type": "code",
   "execution_count": 28,
   "metadata": {},
   "outputs": [],
   "source": [
    "Betas = np.array([[0, 1, -3, 1]])\n",
    "betas = np.array([[1, 4, 2, -1]])\n",
    "X = np.vstack((X_0, X_1, X_2, X_3)).T\n",
    "x = np.vstack((x_0, x_1, x_2, x_3)).T"
   ]
  },
  {
   "cell_type": "code",
   "execution_count": 29,
   "metadata": {},
   "outputs": [],
   "source": [
    "Y = (X * Betas).sum(axis=1) + u[:, 0]\n",
    "y = (x * betas).sum(axis=1) + u[:, 1]"
   ]
  },
  {
   "cell_type": "code",
   "execution_count": 30,
   "metadata": {},
   "outputs": [],
   "source": [
    "import pystan"
   ]
  },
  {
   "cell_type": "markdown",
   "metadata": {},
   "source": [
    "Проверим работу модели на одной итерации."
   ]
  },
  {
   "cell_type": "code",
   "execution_count": 31,
   "metadata": {
    "scrolled": false
   },
   "outputs": [
    {
     "name": "stderr",
     "output_type": "stream",
     "text": [
      "WARNING:pystan:DeprecationWarning: pystan.stan was deprecated in version 2.17 and will be removed in version 3.0. Compile and use a Stan program in separate steps.\n",
      "INFO:pystan:COMPILING THE C++ CODE FOR MODEL anon_model_f21e5e611952633f66942b4a682e105c NOW.\n",
      "WARNING:pystan:Maximum (flat) parameter count (1000) exceeded: skipping diagnostic tests for n_eff and Rhat.\n",
      "To run all diagnostics call pystan.check_hmc_diagnostics(fit)\n"
     ]
    },
    {
     "name": "stdout",
     "output_type": "stream",
     "text": [
      "CPU times: user 2min 6s, sys: 1.31 s, total: 2min 8s\n",
      "Wall time: 3min 8s\n"
     ]
    }
   ],
   "source": [
    "%%time\n",
    "\n",
    "data = {'m': 2, 'k': X.shape[1], 'n': n, 'x': x, 'X':X, 'y': np.array([y, Y]).T} \n",
    "\n",
    "model = pystan.stan(file = '/Users/efremovdanil/Desktop/Bayes/2_regressions_normal.stan', data = data, chains = 1,\n",
    "                    iter = 2000, seed=123)"
   ]
  },
  {
   "cell_type": "markdown",
   "metadata": {},
   "source": [
    "Значения параметров получились похожими на истинные."
   ]
  },
  {
   "cell_type": "code",
   "execution_count": 32,
   "metadata": {},
   "outputs": [],
   "source": [
    "real = np.array([1, 4, 2, -1, 0, 1, -3, 1, 1, 0.5, 1])\n",
    "results = np.array([model.extract()['beta'][:, 0].mean(), model.extract()['beta'][:, 1].mean(),\n",
    "                     model.extract()['beta'][:, 2].mean(), model.extract()['beta'][:, 3].mean(), \n",
    "                     model.extract()['Beta'][:, 0].mean(), model.extract()['Beta'][:, 1].mean(), \n",
    "                     model.extract()['Beta'][:, 2].mean(), model.extract()['Beta'][:, 3].mean(), \n",
    "                     model.extract()['Sigma'][:, 1, 1].mean(), model.extract()['Sigma'][:, 1, 0].mean(), \n",
    "                     model.extract()['Sigma'][:, 0, 0].mean()])"
   ]
  },
  {
   "cell_type": "code",
   "execution_count": 33,
   "metadata": {},
   "outputs": [
    {
     "data": {
      "text/html": [
       "<div>\n",
       "<style scoped>\n",
       "    .dataframe tbody tr th:only-of-type {\n",
       "        vertical-align: middle;\n",
       "    }\n",
       "\n",
       "    .dataframe tbody tr th {\n",
       "        vertical-align: top;\n",
       "    }\n",
       "\n",
       "    .dataframe thead th {\n",
       "        text-align: right;\n",
       "    }\n",
       "</style>\n",
       "<table border=\"1\" class=\"dataframe\">\n",
       "  <thead>\n",
       "    <tr style=\"text-align: right;\">\n",
       "      <th></th>\n",
       "      <th>Истинные значения</th>\n",
       "      <th>Получившиеся значения</th>\n",
       "    </tr>\n",
       "  </thead>\n",
       "  <tbody>\n",
       "    <tr>\n",
       "      <th>Beta_0</th>\n",
       "      <td>1.0</td>\n",
       "      <td>0.824068</td>\n",
       "    </tr>\n",
       "    <tr>\n",
       "      <th>Beta_1</th>\n",
       "      <td>4.0</td>\n",
       "      <td>4.004442</td>\n",
       "    </tr>\n",
       "    <tr>\n",
       "      <th>Beta_2</th>\n",
       "      <td>2.0</td>\n",
       "      <td>2.023431</td>\n",
       "    </tr>\n",
       "    <tr>\n",
       "      <th>Beta_3</th>\n",
       "      <td>-1.0</td>\n",
       "      <td>-0.944687</td>\n",
       "    </tr>\n",
       "    <tr>\n",
       "      <th>beta_0</th>\n",
       "      <td>0.0</td>\n",
       "      <td>-0.101044</td>\n",
       "    </tr>\n",
       "    <tr>\n",
       "      <th>beta_1</th>\n",
       "      <td>1.0</td>\n",
       "      <td>0.995866</td>\n",
       "    </tr>\n",
       "    <tr>\n",
       "      <th>beta_2</th>\n",
       "      <td>-3.0</td>\n",
       "      <td>-2.997954</td>\n",
       "    </tr>\n",
       "    <tr>\n",
       "      <th>beta_3</th>\n",
       "      <td>1.0</td>\n",
       "      <td>1.004932</td>\n",
       "    </tr>\n",
       "    <tr>\n",
       "      <th>sigma_1</th>\n",
       "      <td>1.0</td>\n",
       "      <td>1.002523</td>\n",
       "    </tr>\n",
       "    <tr>\n",
       "      <th>cov(u_1, u_2)</th>\n",
       "      <td>0.5</td>\n",
       "      <td>0.477918</td>\n",
       "    </tr>\n",
       "    <tr>\n",
       "      <th>sigma_2</th>\n",
       "      <td>1.0</td>\n",
       "      <td>0.970163</td>\n",
       "    </tr>\n",
       "  </tbody>\n",
       "</table>\n",
       "</div>"
      ],
      "text/plain": [
       "               Истинные значения  Получившиеся значения\n",
       "Beta_0                       1.0               0.824068\n",
       "Beta_1                       4.0               4.004442\n",
       "Beta_2                       2.0               2.023431\n",
       "Beta_3                      -1.0              -0.944687\n",
       "beta_0                       0.0              -0.101044\n",
       "beta_1                       1.0               0.995866\n",
       "beta_2                      -3.0              -2.997954\n",
       "beta_3                       1.0               1.004932\n",
       "sigma_1                      1.0               1.002523\n",
       "cov(u_1, u_2)                0.5               0.477918\n",
       "sigma_2                      1.0               0.970163"
      ]
     },
     "execution_count": 33,
     "metadata": {},
     "output_type": "execute_result"
    }
   ],
   "source": [
    "import pandas as pd\n",
    "df = pd.DataFrame(np.array([real, results]).T, columns=['Истинные значения', 'Получившиеся значения'])\n",
    "df.index=['Beta_0', 'Beta_1', 'Beta_2', 'Beta_3', 'beta_0', 'beta_1', 'beta_2', 'beta_3', 'sigma_1', \n",
    "          'cov(u_1, u_2)', 'sigma_2']\n",
    "df"
   ]
  },
  {
   "cell_type": "code",
   "execution_count": null,
   "metadata": {},
   "outputs": [],
   "source": []
  }
 ],
 "metadata": {
  "kernelspec": {
   "display_name": "Python 3",
   "language": "python",
   "name": "python3"
  },
  "language_info": {
   "codemirror_mode": {
    "name": "ipython",
    "version": 3
   },
   "file_extension": ".py",
   "mimetype": "text/x-python",
   "name": "python",
   "nbconvert_exporter": "python",
   "pygments_lexer": "ipython3",
   "version": "3.8.3"
  }
 },
 "nbformat": 4,
 "nbformat_minor": 4
}
